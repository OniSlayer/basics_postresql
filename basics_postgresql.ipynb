{
 "cells": [
  {
   "cell_type": "code",
   "execution_count": 1,
   "metadata": {},
   "outputs": [],
   "source": [
    "# To interact with postqre, the psycopg2 library is used\n",
    "import psycopg2"
   ]
  },
  {
   "cell_type": "code",
   "execution_count": 2,
   "metadata": {},
   "outputs": [
    {
     "name": "stdout",
     "output_type": "stream",
     "text": [
      "Ver Cluster Port Status Owner    Data directory              Log file\r\n",
      "\u001b[32m10  main    5432 online postgres /var/lib/postgresql/10/main /var/log/postgresql/postgresql-10-main.log\u001b[0m\r\n"
     ]
    }
   ],
   "source": [
    "# To create a connection with the db, first you should be shure that the server is active and listening\n",
    "!pg_lsclusters 10 main start\n"
   ]
  },
  {
   "cell_type": "code",
   "execution_count": 5,
   "metadata": {},
   "outputs": [],
   "source": [
    "# Then you have to create a connection object to the server\n",
    "# At this point, you are also setting the database that you will be using\n",
    "conn = psycopg2.connect(\n",
    "user=\"dum\",\n",
    "dbname=\"postgres\",\n",
    "host=\"/var/run/postgresql\"\n",
    ")"
   ]
  },
  {
   "cell_type": "code",
   "execution_count": 6,
   "metadata": {},
   "outputs": [],
   "source": [
    "# To perform queries or command to the db, you need a cursor\n",
    "cur = conn.cursor()"
   ]
  },
  {
   "cell_type": "code",
   "execution_count": 9,
   "metadata": {},
   "outputs": [],
   "source": [
    "# Postgre automatically initiates a new transaction, so it's necessary to set the autocommit property of the connection to True\n",
    "conn.commit()\n",
    "conn.autocommit = True"
   ]
  },
  {
   "cell_type": "code",
   "execution_count": 10,
   "metadata": {},
   "outputs": [],
   "source": [
    "# To create a new database, use the following syntax\n",
    "cur.execute('''\n",
    "    create database basic_postgre owner dum\n",
    "''')"
   ]
  },
  {
   "cell_type": "code",
   "execution_count": 12,
   "metadata": {},
   "outputs": [],
   "source": [
    "# To create tables, the syntax is the same that the one on SQLite\n",
    "cur.execute('''\n",
    "    create table data_test(\n",
    "        id integer primary key,\n",
    "        name text\n",
    "    )\n",
    "''')"
   ]
  },
  {
   "cell_type": "code",
   "execution_count": 13,
   "metadata": {},
   "outputs": [],
   "source": [
    "# Adding values to the recently created table\n",
    "cur.execute('''\n",
    "    insert into data_test\n",
    "    values\n",
    "        (1, 'Jose');\n",
    "\n",
    "''')"
   ]
  },
  {
   "cell_type": "code",
   "execution_count": 14,
   "metadata": {},
   "outputs": [
    {
     "data": {
      "text/plain": [
       "[(1, 'Jose')]"
      ]
     },
     "execution_count": 14,
     "metadata": {},
     "output_type": "execute_result"
    }
   ],
   "source": [
    "# To run queries, you have to use the methods fetchall or fetchone of the cursor\n",
    "\n",
    "cur.execute('''\n",
    "    select *\n",
    "    from data_test\n",
    "''')\n",
    "\n",
    "cur.fetchall()\n"
   ]
  },
  {
   "cell_type": "code",
   "execution_count": null,
   "metadata": {},
   "outputs": [],
   "source": []
  }
 ],
 "metadata": {
  "kernelspec": {
   "display_name": "Python 3",
   "language": "python",
   "name": "python3"
  },
  "language_info": {
   "codemirror_mode": {
    "name": "ipython",
    "version": 3
   },
   "file_extension": ".py",
   "mimetype": "text/x-python",
   "name": "python",
   "nbconvert_exporter": "python",
   "pygments_lexer": "ipython3",
   "version": "3.7.3"
  }
 },
 "nbformat": 4,
 "nbformat_minor": 2
}
